{
  "cells": [
    {
      "cell_type": "markdown",
      "metadata": {
        "id": "view-in-github",
        "colab_type": "text"
      },
      "source": [
        "<a href=\"https://colab.research.google.com/github/thizi/project1-front-end-/blob/main/Projet_fausses_informations.ipynb\" target=\"_parent\"><img src=\"https://colab.research.google.com/assets/colab-badge.svg\" alt=\"Open In Colab\"/></a>"
      ]
    },
    {
      "cell_type": "code",
      "source": [
        "depuis google.colab importer drive\n",
        "drive.mount  ( '/content/drive' )"
      ],
      "metadata": {
        "colab": {
          "base_uri": "https://localhost:8080/"
        },
        "id": "7UylEgFMJFNW",
        "outputId": "af3f4e42-315b-4247-908a-b5cc3345f52e"
      },
      "execution_count": null,
      "outputs": [
        {
          "output_type": "stream",
          "name": "stdout",
          "text": [
            "Mounted at /content/drive\n"
          ]
        }
      ]
    },
    {
      "cell_type": "code",
      "source": [
        "import pandas as pd\n",
        "\n",
        "# Chemin vers ton fichier dans Google Drive\n",
        "chemin = '/content/drive/MyDrive/cleanData.xlsx'\n",
        "\n",
        "# Lecture du fichier\n",
        "df = pd.read_excel(chemin)\n",
        "print(df.head())"
      ],
      "metadata": {
        "colab": {
          "base_uri": "https://localhost:8080/"
        },
        "id": "ZjTftFtMJePi",
        "outputId": "015b3711-e764-4e20-b824-1d4b36e814f6"
      },
      "execution_count": null,
      "outputs": [
        {
          "output_type": "stream",
          "name": "stdout",
          "text": [
            "   id date_de_repérage                                  contenu_de_l_info  \\\n",
            "0   1       20/06/2020  Le virus de la COVID-19 a été créé dans un lab...   \n",
            "1   2       15/06/2020  Trudeau veut rendre la vaccination obligatoire...   \n",
            "2   3       30/05/2020  Boire de l’eau bouillie avec de l’ail guérit l...   \n",
            "3   4       12/01/2020  Les hôpitaux sont vides : la pandémie est une ...   \n",
            "4   5       15/01/2021  Le vaccin COVID-19 contient une micropuce pour...   \n",
            "\n",
            "         type_d_infox thématique  \\\n",
            "0  Théorie_du_complot      Santé   \n",
            "1              Rumeur  Politique   \n",
            "2      Désinformation      Santé   \n",
            "3      Désinformation      Santé   \n",
            "4  Théorie_du_complot      Santé   \n",
            "\n",
            "                               objectif_possible  public_cible  \\\n",
            "0                           Politique, xénophobe  Grand public   \n",
            "1  Créer la peur, décrédibiliser le gouvernement     Électeurs   \n",
            "2                          Médical, manipulation       Seniors   \n",
            "3                          Minimiser la pandémie  Grand public   \n",
            "4                      Idéologique, conspiration  Grand public   \n",
            "\n",
            "  plateforme_de_diffusion  zone_geographique format  véracité  \\\n",
            "0                Facebook  Québec (province)  Vidéo      FAUX   \n",
            "1                Facebook  Québec (province)  Texte      FAUX   \n",
            "2                Facebook             Canada  Texte      FAUX   \n",
            "3                 YouTube  Québec (province)  Vidéo  TROMPEUR   \n",
            "4                Facebook             Canada  Vidéo      FAUX   \n",
            "\n",
            "  source_de_verification                             lien_vers_verification  \\\n",
            "0          TVA Nouvelles  https://www.tvanouvelles.ca/2020/06/20/7-fauss...   \n",
            "1          TVA Nouvelles  https://www.tvanouvelles.ca/2020/06/20/7-fauss...   \n",
            "2            AFP Factuel  https://www.afp.com/fr/covid-19-lutte-contre-l...   \n",
            "3            AFP Factuel  https://www.afp.com/fr/covid-19-lutte-contre-l...   \n",
            "4          TVA Nouvelles  https://www.tvanouvelles.ca/2023/01/26/covid-1...   \n",
            "\n",
            "  impact_estimé Langue  \n",
            "0        Modéré     FR  \n",
            "1        Modéré     FR  \n",
            "2        Modéré     FR  \n",
            "3         Élevé     FR  \n",
            "4         Élevé     FR  \n"
          ]
        }
      ]
    },
    {
      "cell_type": "code",
      "source": [
        "# On trie le fichier selon la colonne 'thématique'\n",
        "df_tri = df.sort_values(by=\"thématique\")\n",
        "\n",
        "# Afficher les premières lignes pour vérifier\n",
        "print(df_tri.head())"
      ],
      "metadata": {
        "colab": {
          "base_uri": "https://localhost:8080/"
        },
        "id": "xXjNkmtNJlYb",
        "outputId": "f9c9ef22-3b22-4d9a-949a-ce882bbd2281"
      },
      "execution_count": null,
      "outputs": [
        {
          "output_type": "stream",
          "name": "stdout",
          "text": [
            "      id date_de_repérage                                  contenu_de_l_info  \\\n",
            "377  378       16/08/2019  Un maire canadien aurait refusé d'enlever le p...   \n",
            "475  476       08/01/2023  Votre colis est retenu au centre de tri de Pos...   \n",
            "473  474       21/01/2025  URGENT : Votre compte Desjardins a été bloqué....   \n",
            "474  475       14/08/2019  Hydro-Québec vous doit un remboursement suite ...   \n",
            "367  368       08/01/2017  Le gouvernement offre le passage gratuit aux d...   \n",
            "\n",
            "           type_d_infox             thématique  \\\n",
            "377  Rumeur persistante  Alimentation scolaire   \n",
            "475      Désinformation  Arnaque / Hameçonnage   \n",
            "473      Désinformation  Arnaque / Hameçonnage   \n",
            "474      Désinformation  Arnaque / Hameçonnage   \n",
            "367      Désinformation          Asile/Immigr.   \n",
            "\n",
            "                                     objectif_possible  \\\n",
            "377                   Attiser les tensions culturelles   \n",
            "475  Voler les informations de carte de crédit pour...   \n",
            "473  Voler les identifiants de connexion et vider l...   \n",
            "474  Obtenir les informations bancaires de la victi...   \n",
            "367                    Encourager traversées illégales   \n",
            "\n",
            "                           public_cible plateforme_de_diffusion  \\\n",
            "377  Communautés religieuses et laïques                Facebook   \n",
            "475       Personnes attendant un colis.                     SMS   \n",
            "473              Clients de Desjardins.           SMS, courriel   \n",
            "474    Tous les clients d'Hydro-Québec.           SMS, courriel   \n",
            "367                              Autres                Facebook   \n",
            "\n",
            "          zone_geographique  \\\n",
            "377  Dorval, Québec, Canada   \n",
            "475                  Canada   \n",
            "473         Canada (Québec)   \n",
            "474         Canada (Québec)   \n",
            "367       Québec (province)   \n",
            "\n",
            "                                                format véracité  \\\n",
            "377                                              Texte    False   \n",
            "475                          Message texte frauduleux.  Arnaque   \n",
            "473  Message texte (smishing) imitant une alerte de...  Arnaque   \n",
            "474                     Faux message de remboursement.  Arnaque   \n",
            "367                               Texte (post/annonce)     FAUX   \n",
            "\n",
            "           source_de_verification  \\\n",
            "377                   AFP Factuel   \n",
            "475                 Postes Canada   \n",
            "473               francoi charron   \n",
            "474  Hydro-Québec et radio canada   \n",
            "367                 TVA Nouvelles   \n",
            "\n",
            "                                lien_vers_verification impact_estimé  \\\n",
            "377  https://factuel.afp.com/une-reponse-sur-le-por...        Modéré   \n",
            "475  https://www.canadapost-postescanada.ca/scp/fr/...         Élevé   \n",
            "473  https://francoischarron.com/securite/fraude-et...    Très élevé   \n",
            "474  https://www.hydroquebec.com/securite/preventio...    Très élevé   \n",
            "367  https://www.tvanouvelles.ca/2017/08/25/fausses...             N   \n",
            "\n",
            "                Langue  \n",
            "377           Français  \n",
            "475  Français, Anglais  \n",
            "473           Français  \n",
            "474           Français  \n",
            "367                 FR  \n"
          ]
        }
      ]
    },
    {
      "cell_type": "code",
      "source": [
        "# Assurer que la colonne date_de_repérage est bien en format date\n",
        "df[\"date_de_repérage\"] = pd.to_datetime(df[\"date_de_repérage\"], dayfirst=True, errors='coerce')\n",
        "\n",
        "# Trier par date (du plus ancien au plus récent)\n",
        "df_tri_date = df.sort_values(by=\"date_de_repérage\")\n",
        "\n",
        "# Afficher les premières lignes pour vérifier\n",
        "print(df_tri_date.head())"
      ],
      "metadata": {
        "colab": {
          "base_uri": "https://localhost:8080/"
        },
        "id": "ILPSWJTrJr08",
        "outputId": "faae9957-24ec-429b-b30d-3f4a70c67c9e"
      },
      "execution_count": null,
      "outputs": [
        {
          "output_type": "stream",
          "name": "stdout",
          "text": [
            "      id date_de_repérage                                  contenu_de_l_info  \\\n",
            "287  288       2003-06-01  Un réfugié a été arrêté dans une école de Sher...   \n",
            "281  282       2005-12-07  Le port du hijab est interdit dans les écoles ...   \n",
            "286  287       2007-12-05  Un laboratoire secret est construit à Saint-Je...   \n",
            "191  192       2008-01-01  Un faux article annonce la découverte d’un rem...   \n",
            "365  366       2011-01-05  Un réfugié reçoit plus d’aide financière qu’un...   \n",
            "\n",
            "       type_d_infox   thématique                            objectif_possible  \\\n",
            "287  Désinformation  immigration                                semer la peur   \n",
            "281  Désinformation    éducation             inciter le rejet de la diversité   \n",
            "286  Désinformation      science           encourager les théories du complot   \n",
            "191           Autre  Criminalité          Sensibiliser à la réforme policière   \n",
            "365  Désinformation  Immigration  Provoquer l’indignation contre les réfugiés   \n",
            "\n",
            "                public_cible plateforme_de_diffusion  zone_geographique  \\\n",
            "287                  Parents               Twitter/X  Québec (province)   \n",
            "281  Communautés spécifiques               Twitter/X  Québec (province)   \n",
            "286              Internautes               Instagram  Québec (province)   \n",
            "191  Communautés spécifiques    Médias traditionnels  Québec (province)   \n",
            "365              Internautes                Courriel  Québec (province)   \n",
            "\n",
            "               format véracité source_de_verification  \\\n",
            "287             texte     FAUX          TVA Nouvelles   \n",
            "281             texte     FAUX           Radio-Canada   \n",
            "286             image     FAUX          TVA Nouvelles   \n",
            "191           Article     VRAI               HuffPost   \n",
            "365  Texte (courriel)     FAUX          TVA Nouvelles   \n",
            "\n",
            "                                lien_vers_verification impact_estimé Langue  \n",
            "287                                              Aucun        Modéré     FR  \n",
            "281           https://ici.radio-canada.ca/verification        Modéré     FR  \n",
            "286                                              Aucun        Faible     FR  \n",
            "191  https://www.huffpost.com/archive/qc/entry/affa...        Faible    ANG  \n",
            "365  https://www.tvanouvelles.ca/2011/05/30/les-ref...         Élevé     FR  \n"
          ]
        }
      ]
    },
    {
      "cell_type": "code",
      "source": [
        "df_tri_date.to_excel('/content/drive/MyDrive/fichier_trié_par_date.xlsx', index=False)"
      ],
      "metadata": {
        "id": "kxYy77RMKDME"
      },
      "execution_count": null,
      "outputs": []
    },
    {
      "cell_type": "code",
      "source": [
        "# Sauvegarde du fichier trié dans ton Drive\n",
        "df_tri.to_excel ( '/content/drive/MyDrive/fichier_trié_par_thématique.xlsx' ,  index= False )"
      ],
      "metadata": {
        "id": "IHtNYS3yJ_19"
      },
      "execution_count": null,
      "outputs": []
    }
  ],
  "metadata": {
    "colab": {
      "provenance": [],
      "authorship_tag": "ABX9TyPtHWDW8Ms3zwXNhgSHnS33",
      "include_colab_link": true
    },
    "kernelspec": {
      "display_name": "Python 3",
      "name": "python3"
    },
    "language_info": {
      "name": "python"
    }
  },
  "nbformat": 4,
  "nbformat_minor": 0
}